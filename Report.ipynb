{
 "cells": [
  {
   "cell_type": "markdown",
   "metadata": {},
   "source": [
    "<h1 style = "text-align:center">Best Place for a Restaurant</h1>"
   ]
  },
  {
   "cell_type": "markdown",
   "metadata": {},
   "source": [
    "<h3>1) Introduction/Business Problem</h3>"
   ]
  },
  {
   "cell_type": "markdown",
   "metadata": {},
   "source": [
    "Imagine that a vendor needs to start a business: a restaurant/cafe in the city of Melbourne. The first problem would be the selection of a location to establish a physical facility. The place should be selected considering <em>minimizing the costs</em> and <em>maximizing the generation of income</em>. These depend on several other factors. The most important information to consider is the number of restaurants/cafes that are already available in the neighborhood. Other than this basic factor, information such as the population of the neighborhood, public places/tourist attractions in the neighborhood also plays a major role in the success of such an establishment.\n",
    "\n",
    "Though an entrepreneur can do a basic identification of an opportunity by simply looking at basic factors, to see the big picture including minor details, a thorough analysis is essential. A clear idea about the competitors and the target groups in a certain neighborhood can be generated using data scientific analysis: clustering.\n",
    "\n",
    "Using data science tools, a powerful insight can be generated and the generated insights can be presented in an easy to understand format, with the help of visualization tools. A system developed for this task can be altered according to the need of a client with minimal changes in the code which makes the system very useful to a client universally."
   ]
  },
  {
   "cell_type": "code",
   "execution_count": null,
   "metadata": {},
   "outputs": [],
   "source": []
  }
 ],
 "metadata": {
  "kernelspec": {
   "display_name": "Python",
   "language": "python",
   "name": "conda-env-python-py"
  },
  "language_info": {
   "codemirror_mode": {
    "name": "ipython",
    "version": 3
   },
   "file_extension": ".py",
   "mimetype": "text/x-python",
   "name": "python",
   "nbconvert_exporter": "python",
   "pygments_lexer": "ipython3",
   "version": "3.6.11"
  }
 },
 "nbformat": 4,
 "nbformat_minor": 4
}
