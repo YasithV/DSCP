{
 "cells": [
  {
   "cell_type": "markdown",
   "metadata": {},
   "source": [
    "<h1>Best Place for a Restaurant</h1>"
   ]
  },
  {
   "cell_type": "markdown",
   "metadata": {},
   "source": [
    "<h3>1) Introduction/Business Problem</h3>"
   ]
  },
  {
   "cell_type": "markdown",
   "metadata": {},
   "source": [
    "Imagine that a vendor needs to start a business: a restaurant/cafe in the state of California. The first problem would be the selection of a location to establish a physical facility. The place should be selected considering <em>minimizing the costs</em> and <em>maximizing the generation of income</em>. These depend on several other factors. The most important information to consider is the number of restaurants/cafes that are already available in the neighborhood. Other than this basic factor, information such as the population of the neighborhood, public places/tourist attractions in the neighborhood also plays a major role in the success of such an establishment.\n",
    "\n",
    "Though an entrepreneur can do a basic identification of an opportunity by simply looking at basic factors, to see the big picture including minor details, a thorough analysis is essential. A clear idea about the competitors and the target groups in a certain neighborhood can be generated using data scientific analysis: clustering.\n",
    "\n",
    "Using data science tools, a powerful insight can be generated and the generated insights can be presented in an easy to understand format, with the help of visualization tools. A system developed for this task can be altered according to the need of a client with minimal changes in the code which makes the system very useful to a client universally.\n",
    "\n",
    "The target audience of this system includes, entrepreneurs who are planning to start a new business in town, business owners who are planning to move their already established business in to a more profitable place and restaurent\\cafe chains who are trying to create branches and expand their customer base in new areas."
   ]
  },
  {
   "cell_type": "markdown",
   "metadata": {},
   "source": [
    "<h3>2) Data</h3>"
   ]
  },
  {
   "cell_type": "markdown",
   "metadata": {},
   "source": [
    "The data that will be used for this analysis ranges in several different aspects. The basic dataset would contain a list of cities in California with their latitudes and longitudes. The most important type of data would be the data on competitors in the neighborhood. The existing cafes/restaurants/food courts will be taken into consideration. These data can be obtained using the foursquare API using the location data. Data on the population of particular cities will also acquired using the government population data from \"https://worldpopulationreview.com/\". Finally, the other geographical factors such as public places/tourist attractions would be added to the dataset using the foursquare API.\n",
    "\n",
    "As an examlple of how ML can be used with these data, let's consider Los Angeles. Using the data from the sources mentioned above, information will be extracted about the existing restaurents, public areas and population in the area. This will define a characteristic quality of the city which will be used to group it with cities with similar qualties.\n",
    "\n",
    "By analyzing the data and subjecting it to a clustering algorithm, a suitable cluster for the new establishment would be determined."
   ]
  },
  {
   "cell_type": "code",
   "execution_count": null,
   "metadata": {},
   "outputs": [],
   "source": []
  }
 ],
 "metadata": {
  "kernelspec": {
   "display_name": "Python",
   "language": "python",
   "name": "conda-env-python-py"
  },
  "language_info": {
   "codemirror_mode": {
    "name": "ipython",
    "version": 3
   },
   "file_extension": ".py",
   "mimetype": "text/x-python",
   "name": "python",
   "nbconvert_exporter": "python",
   "pygments_lexer": "ipython3",
   "version": "3.6.11"
  }
 },
 "nbformat": 4,
 "nbformat_minor": 4
}
